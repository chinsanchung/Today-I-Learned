{
 "cells": [
  {
   "cell_type": "code",
   "execution_count": null,
   "metadata": {},
   "outputs": [],
   "source": [
    "# 서울의 최고 기온을 구하기...기상자료개방포털에서 CSV 파일 사용\n",
    "# 001"
   ]
  },
  {
   "cell_type": "code",
   "execution_count": 58,
   "metadata": {},
   "outputs": [],
   "source": [
    "import csv\n",
    "\n",
    "# 'r':읽기 모드\n",
    "f = open('seoul.csv', 'r', encoding='cp949')\n",
    "# f 파일 데이터를 ','를 기준으로 분리해서 저장(delimiter=구분자)\n",
    "data = csv.reader(f, delimiter=',')\n",
    "# 헤더를 별도로 저장하기 + data 탐색 위치를 다음 행으로 이동시키기\n",
    "header = next(data)"
   ]
  },
  {
   "cell_type": "code",
   "execution_count": 29,
   "metadata": {},
   "outputs": [
    {
     "name": "stdout",
     "output_type": "stream",
     "text": [
      "1994-07-24 38.4\n"
     ]
    }
   ],
   "source": [
    "# 최고 기온을 찾기 위한 기준값 설정...변수들: 최고 기온, 최고 기온 때의 날짜(문자열)\n",
    "max_temp = -999\n",
    "max_date = ''\n",
    "\n",
    "for row in data:\n",
    "    # 누락된 데이터를 작은 숫자 값으로 대체함\n",
    "    if row[-1] == '':\n",
    "        row[-1] = -999\n",
    "    # 최고 기온이 리스트의 끝에 있으니 [-1]. 기온을 실수로 바꿈\n",
    "    row[-1] = float(row[-1])\n",
    "    # 최고 기온을 구하는 조건문\n",
    "    if max_temp < row[-1]:\n",
    "        max_date = row[0]\n",
    "        max_temp = row[-1]\n",
    "\n",
    "print(max_date, max_temp)\n",
    "f.close()"
   ]
  },
  {
   "cell_type": "code",
   "execution_count": null,
   "metadata": {},
   "outputs": [],
   "source": [
    "# 002 응용: 최저기온"
   ]
  },
  {
   "cell_type": "code",
   "execution_count": 38,
   "metadata": {},
   "outputs": [
    {
     "name": "stdout",
     "output_type": "stream",
     "text": [
      "1994-07-24 38.4\n",
      "1927-12-31 -23.1\n"
     ]
    }
   ],
   "source": [
    "max_date, min_date = '', ''\n",
    "max_temp, min_temp = -999, 999\n",
    "\n",
    "for row in data:\n",
    "    if row[-1] == '': row[-1] = -999\n",
    "    if row[-2] == '': row[-2] = 999\n",
    "    \n",
    "    row[-1] = float(row[-1])\n",
    "    row[-2] = float(row[-2])\n",
    "\n",
    "    if max_temp < row[-1]:\n",
    "        max_date = row[0]\n",
    "        max_temp = row[-1]\n",
    "    if min_temp > row[-2]:\n",
    "        min_date = row[0]\n",
    "        min_temp = row[-2]\n",
    "\n",
    "print(max_date, max_temp)\n",
    "print(min_date, min_temp)\n",
    "f.close()"
   ]
  },
  {
   "cell_type": "code",
   "execution_count": 59,
   "metadata": {
    "scrolled": true
   },
   "outputs": [
    {
     "name": "stdout",
     "output_type": "stream",
     "text": [
      "2018-03-14 22.1\n",
      "2018-01-26 -17.8\n"
     ]
    }
   ],
   "source": [
    "# 003 응용: 2018년의 최고, 최저기온\n",
    "max_date, min_date = '', ''\n",
    "max_temp, min_temp = -999, 999\n",
    "current_data = list()\n",
    "for row in data:\n",
    "    year = row[0].split('-')[0]\n",
    "    if year == '2018':\n",
    "        current_data.append(row)\n",
    "        \n",
    "for row in current_data:\n",
    "    row[-1] = float(row[-1])\n",
    "    row[-2] = float(row[-2])\n",
    "    \n",
    "    if max_temp < row[-1]:\n",
    "        max_date = row[0]\n",
    "        max_temp = row[-1]\n",
    "    if min_temp > row[-2]:\n",
    "        min_date = row[0]\n",
    "        min_temp = row[-2]\n",
    "\n",
    "\n",
    "print(max_date, max_temp)\n",
    "print(min_date, min_temp)\n",
    "f.close()"
   ]
  },
  {
   "cell_type": "code",
   "execution_count": null,
   "metadata": {},
   "outputs": [],
   "source": []
  }
 ],
 "metadata": {
  "kernelspec": {
   "display_name": "Python 3",
   "language": "python",
   "name": "python3"
  },
  "language_info": {
   "codemirror_mode": {
    "name": "ipython",
    "version": 3
   },
   "file_extension": ".py",
   "mimetype": "text/x-python",
   "name": "python",
   "nbconvert_exporter": "python",
   "pygments_lexer": "ipython3",
   "version": "3.7.3"
  }
 },
 "nbformat": 4,
 "nbformat_minor": 2
}
